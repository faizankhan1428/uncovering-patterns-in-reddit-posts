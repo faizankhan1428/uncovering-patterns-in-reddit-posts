{
 "cells": [
  {
   "cell_type": "markdown",
   "id": "b3ae7b5f",
   "metadata": {
    "papermill": {
     "duration": 0.00783,
     "end_time": "2025-07-19T23:36:32.091517",
     "exception": false,
     "start_time": "2025-07-19T23:36:32.083687",
     "status": "completed"
    },
    "tags": []
   },
   "source": [
    "<div style=\"background-color:#e6f0ff; padding:15px; border-radius:10px; font-size:16px\">\n",
    "\n",
    "### Unmasking Conspiracies: NLP Analysis of Reddit's r/Conspiracy Posts in R\n",
    "\n",
    "</div>\n"
   ]
  },
  {
   "cell_type": "markdown",
   "id": "f3d7cdda",
   "metadata": {
    "papermill": {
     "duration": 0.006127,
     "end_time": "2025-07-19T23:36:32.104003",
     "exception": false,
     "start_time": "2025-07-19T23:36:32.097876",
     "status": "completed"
    },
    "tags": []
   },
   "source": [
    "## Step 1: Load Required R Libraries\n",
    "\n",
    "We begin by loading the necessary packages for data loading, wrangling, visualization, and NLP.\n"
   ]
  },
  {
   "cell_type": "code",
   "execution_count": 1,
   "id": "c3689de6",
   "metadata": {
    "execution": {
     "iopub.execute_input": "2025-07-19T23:36:32.122215Z",
     "iopub.status.busy": "2025-07-19T23:36:32.119764Z",
     "iopub.status.idle": "2025-07-19T23:36:36.321235Z",
     "shell.execute_reply": "2025-07-19T23:36:36.319445Z"
    },
    "papermill": {
     "duration": 4.214022,
     "end_time": "2025-07-19T23:36:36.324134",
     "exception": false,
     "start_time": "2025-07-19T23:36:32.110112",
     "status": "completed"
    },
    "tags": []
   },
   "outputs": [],
   "source": [
    "# Suppress package startup messages and warnings\n",
    "suppressPackageStartupMessages({\n",
    "  library(tidyverse)      # Data wrangling and visualization\n",
    "  library(readr)          # For reading CSV files\n",
    "  library(ggplot2)        # Visualization\n",
    "  library(tidytext)       # Text mining\n",
    "  library(tm)             # Text cleaning\n",
    "  library(SnowballC)      # Stemming\n",
    "  library(wordcloud)      # Word cloud generation\n",
    "  library(topicmodels)    # Topic modeling (LDA)\n",
    "  library(caret)          # Machine learning pipeline\n",
    "  library(e1071)          # Naive Bayes model\n",
    "})"
   ]
  },
  {
   "cell_type": "markdown",
   "id": "c52585ee",
   "metadata": {
    "papermill": {
     "duration": 0.006489,
     "end_time": "2025-07-19T23:36:36.337242",
     "exception": false,
     "start_time": "2025-07-19T23:36:36.330753",
     "status": "completed"
    },
    "tags": []
   },
   "source": [
    "## Step 2: Load Dataset and Explore Structure\n",
    "\n",
    "We load the Reddit Conspiracy Theory dataset and check its structure, size, and column names.\n"
   ]
  },
  {
   "cell_type": "code",
   "execution_count": 2,
   "id": "ffee3abf",
   "metadata": {
    "execution": {
     "iopub.execute_input": "2025-07-19T23:36:36.384507Z",
     "iopub.status.busy": "2025-07-19T23:36:36.352974Z",
     "iopub.status.idle": "2025-07-19T23:36:36.646296Z",
     "shell.execute_reply": "2025-07-19T23:36:36.643578Z"
    },
    "papermill": {
     "duration": 0.306292,
     "end_time": "2025-07-19T23:36:36.650038",
     "exception": false,
     "start_time": "2025-07-19T23:36:36.343746",
     "status": "completed"
    },
    "tags": []
   },
   "outputs": [
    {
     "name": "stdout",
     "output_type": "stream",
     "text": [
      "Rows: 1,197\n",
      "Columns: 8\n",
      "$ title     \u001b[3m\u001b[90m<chr>\u001b[39m\u001b[23m \"What Shape is The Earth? PYRAMID!\", \"Bitcoin & XRP Conspira…\n",
      "$ score     \u001b[3m\u001b[90m<dbl>\u001b[39m\u001b[23m 1, 1, 2, 1, 13, 14, 25, 4, 6, 15, 6, 19, 3, 3, 2, 2, 14, 8, …\n",
      "$ id        \u001b[3m\u001b[90m<chr>\u001b[39m\u001b[23m \"b94br6\", \"a6ly3q\", \"bbrgsd\", \"du4rdjb\", \"f2r2s5\", \"f1b44j\",…\n",
      "$ url       \u001b[3m\u001b[90m<chr>\u001b[39m\u001b[23m \"https://www.youtube.com/watch?v=DmMl7xwqTWA\", \"https://www.…\n",
      "$ comms_num \u001b[3m\u001b[90m<dbl>\u001b[39m\u001b[23m 0, 0, 0, 0, 21, 3, 18, 0, 2, 5, 3, 1, 0, 0, 1, 0, 30, 6, 1, …\n",
      "$ created   \u001b[3m\u001b[90m<dbl>\u001b[39m\u001b[23m 1554328693, 1544932039, 1554930837, 1518451562, 1581513470, …\n",
      "$ body      \u001b[3m\u001b[90m<chr>\u001b[39m\u001b[23m NA, NA, \"[https://sputniknews.com/science/201904101074007623…\n",
      "$ timestamp \u001b[3m\u001b[90m<dttm>\u001b[39m\u001b[23m 2019-04-04 00:58:13, 2018-12-16 05:47:19, 2019-04-11 00:13:…\n"
     ]
    }
   ],
   "source": [
    "# Load dataset quietly (no column type messages)\n",
    "df <- suppressMessages(read_csv(\"/kaggle/input/reddit-conspiracy-theory/reddit_ct.csv\", show_col_types = FALSE))\n",
    "\n",
    "# View dataset dimensions and column names\n",
    "glimpse(df)\n",
    "\n",
    "# Summary statistics (optional — can be removed if you want fully quiet output)\n",
    "# summary(df)"
   ]
  },
  {
   "cell_type": "markdown",
   "id": "691c314c",
   "metadata": {
    "papermill": {
     "duration": 0.006856,
     "end_time": "2025-07-19T23:36:36.663973",
     "exception": false,
     "start_time": "2025-07-19T23:36:36.657117",
     "status": "completed"
    },
    "tags": []
   },
   "source": [
    "## Step 3: Basic Data Cleaning\n",
    "\n",
    "We clean the dataset by removing missing values and filtering out irrelevant or empty posts.\n"
   ]
  },
  {
   "cell_type": "code",
   "execution_count": 3,
   "id": "aab978c2",
   "metadata": {
    "execution": {
     "iopub.execute_input": "2025-07-19T23:36:36.681953Z",
     "iopub.status.busy": "2025-07-19T23:36:36.679900Z",
     "iopub.status.idle": "2025-07-19T23:36:36.716271Z",
     "shell.execute_reply": "2025-07-19T23:36:36.713808Z"
    },
    "papermill": {
     "duration": 0.049539,
     "end_time": "2025-07-19T23:36:36.720172",
     "exception": false,
     "start_time": "2025-07-19T23:36:36.670633",
     "status": "completed"
    },
    "tags": []
   },
   "outputs": [],
   "source": [
    "# Clean the dataset by converting 'body' column to character and removing empty or NA values\n",
    "\n",
    "df <- df %>%\n",
    "  mutate(body = as.character(body)) %>%       # Convert 'body' to character\n",
    "  filter(!is.na(body), body != \"\")            # Filter out NA or empty strings"
   ]
  },
  {
   "cell_type": "code",
   "execution_count": 4,
   "id": "c3f6b51f",
   "metadata": {
    "execution": {
     "iopub.execute_input": "2025-07-19T23:36:36.745553Z",
     "iopub.status.busy": "2025-07-19T23:36:36.742590Z",
     "iopub.status.idle": "2025-07-19T23:36:36.788951Z",
     "shell.execute_reply": "2025-07-19T23:36:36.786174Z"
    },
    "papermill": {
     "duration": 0.063535,
     "end_time": "2025-07-19T23:36:36.792026",
     "exception": false,
     "start_time": "2025-07-19T23:36:36.728491",
     "status": "completed"
    },
    "tags": []
   },
   "outputs": [
    {
     "name": "stdout",
     "output_type": "stream",
     "text": [
      "tibble [974 × 8] (S3: tbl_df/tbl/data.frame)\n",
      " $ title    : chr [1:974] \"Is this a thing yet?\" \"Comment\" \"Jimmy Fallon might be in the closet gay, or Bisexual\" \"Evidence that Suggests Wuhan Market was Not the Source of 2019_nCoV infection and that it is being used to Cove\"| __truncated__ ...\n",
      " $ score    : num [1:974] 2 1 13 25 3 14 8 2 4 1 ...\n",
      " $ id       : chr [1:974] \"bbrgsd\" \"du4rdjb\" \"f2r2s5\" \"f0tsly\" ...\n",
      " $ url      : chr [1:974] \"https://www.reddit.com/r/ConspiracyTheory/comments/bbrgsd/is_this_a_thing_yet/\" NA \"https://www.reddit.com/r/ConspiracyTheory/comments/f2r2s5/jimmy_fallon_might_be_in_the_closet_gay_or/\" \"https://www.reddit.com/r/ConspiracyTheory/comments/f0tsly/evidence_that_suggests_wuhan_market_was_not_the/\" ...\n",
      " $ comms_num: num [1:974] 0 0 21 18 0 30 6 0 5 0 ...\n",
      " $ created  : num [1:974] 1.55e+09 1.52e+09 1.58e+09 1.58e+09 1.58e+09 ...\n",
      " $ body     : chr [1:974] \"[https://sputniknews.com/science/201904101074007623-satellite-feed-strange-giant-triangle/](https://sputniknews\"| __truncated__ \"In a Swedish city, the same pattern: \\n\\\"Truth Will Out: Freemasons Call the Shots in Swedish City\\n\\nThey take\"| __truncated__ \"Recently me and some of my friends have been noticing How Jimmy Fallon looks at men on tv. Him checking out Ter\"| __truncated__ \"I have marked a rudimentary chart, each new infections by date of onset of symptoms vs how many of them had exp\"| __truncated__ ...\n",
      " $ timestamp: POSIXct[1:974], format: \"2019-04-11 00:13:57\" \"2018-02-12 18:06:02\" ...\n"
     ]
    }
   ],
   "source": [
    "str(df)  # Optional: to inspect structure of the data"
   ]
  },
  {
   "cell_type": "markdown",
   "id": "a22496d2",
   "metadata": {
    "papermill": {
     "duration": 0.006706,
     "end_time": "2025-07-19T23:36:36.805715",
     "exception": false,
     "start_time": "2025-07-19T23:36:36.799009",
     "status": "completed"
    },
    "tags": []
   },
   "source": [
    "## Step 4: Tokenize and Preprocess Text\n",
    "\n",
    "We tokenize the text, remove stop words, apply stemming, and prepare for analysis using tidytext.\n"
   ]
  },
  {
   "cell_type": "code",
   "execution_count": 5,
   "id": "befbbc22",
   "metadata": {
    "execution": {
     "iopub.execute_input": "2025-07-19T23:36:36.832405Z",
     "iopub.status.busy": "2025-07-19T23:36:36.829083Z",
     "iopub.status.idle": "2025-07-19T23:36:36.960118Z",
     "shell.execute_reply": "2025-07-19T23:36:36.957673Z"
    },
    "papermill": {
     "duration": 0.148172,
     "end_time": "2025-07-19T23:36:36.963119",
     "exception": false,
     "start_time": "2025-07-19T23:36:36.814947",
     "status": "completed"
    },
    "tags": []
   },
   "outputs": [],
   "source": [
    "# Step 4 – Tokenize cleaned text (use 'body' instead of 'content')\n",
    "\n",
    "# Create a clean version first\n",
    "df_clean <- df %>%\n",
    "  mutate(body = as.character(body)) %>%\n",
    "  filter(!is.na(body), body != \"\")\n",
    "\n",
    "# Tokenize the text: convert sentences into individual words\n",
    "df_tokens <- df_clean %>%\n",
    "  select(body) %>%\n",
    "  unnest_tokens(word, body)   # splits 'body' into one word per row"
   ]
  },
  {
   "cell_type": "markdown",
   "id": "a30aa614",
   "metadata": {
    "papermill": {
     "duration": 0.007231,
     "end_time": "2025-07-19T23:36:36.977628",
     "exception": false,
     "start_time": "2025-07-19T23:36:36.970397",
     "status": "completed"
    },
    "tags": []
   },
   "source": [
    "## Step 5: Word Frequency Visualization\n",
    "\n",
    "We count the most common words used in conspiracy-related posts and visualize them using bar plots and word clouds.\n"
   ]
  },
  {
   "cell_type": "code",
   "execution_count": 6,
   "id": "d00f89bd",
   "metadata": {
    "execution": {
     "iopub.execute_input": "2025-07-19T23:36:36.995862Z",
     "iopub.status.busy": "2025-07-19T23:36:36.993800Z",
     "iopub.status.idle": "2025-07-19T23:36:37.193495Z",
     "shell.execute_reply": "2025-07-19T23:36:37.191155Z"
    },
    "papermill": {
     "duration": 0.211792,
     "end_time": "2025-07-19T23:36:37.196435",
     "exception": false,
     "start_time": "2025-07-19T23:36:36.984643",
     "status": "completed"
    },
    "tags": []
   },
   "outputs": [
    {
     "data": {
      "text/html": [
       "<table class=\"dataframe\">\n",
       "<caption>A tibble: 10 × 2</caption>\n",
       "<thead>\n",
       "\t<tr><th scope=col>word</th><th scope=col>n</th></tr>\n",
       "\t<tr><th scope=col>&lt;chr&gt;</th><th scope=col>&lt;int&gt;</th></tr>\n",
       "</thead>\n",
       "<tbody>\n",
       "\t<tr><td>world     </td><td>325</td></tr>\n",
       "\t<tr><td>https     </td><td>254</td></tr>\n",
       "\t<tr><td>people    </td><td>234</td></tr>\n",
       "\t<tr><td>time      </td><td>134</td></tr>\n",
       "\t<tr><td>theory    </td><td> 98</td></tr>\n",
       "\t<tr><td>conspiracy</td><td> 78</td></tr>\n",
       "\t<tr><td>watch     </td><td> 76</td></tr>\n",
       "\t<tr><td>post      </td><td> 68</td></tr>\n",
       "\t<tr><td>2         </td><td> 61</td></tr>\n",
       "\t<tr><td>7erm      </td><td> 60</td></tr>\n",
       "</tbody>\n",
       "</table>\n"
      ],
      "text/latex": [
       "A tibble: 10 × 2\n",
       "\\begin{tabular}{ll}\n",
       " word & n\\\\\n",
       " <chr> & <int>\\\\\n",
       "\\hline\n",
       "\t world      & 325\\\\\n",
       "\t https      & 254\\\\\n",
       "\t people     & 234\\\\\n",
       "\t time       & 134\\\\\n",
       "\t theory     &  98\\\\\n",
       "\t conspiracy &  78\\\\\n",
       "\t watch      &  76\\\\\n",
       "\t post       &  68\\\\\n",
       "\t 2          &  61\\\\\n",
       "\t 7erm       &  60\\\\\n",
       "\\end{tabular}\n"
      ],
      "text/markdown": [
       "\n",
       "A tibble: 10 × 2\n",
       "\n",
       "| word &lt;chr&gt; | n &lt;int&gt; |\n",
       "|---|---|\n",
       "| world      | 325 |\n",
       "| https      | 254 |\n",
       "| people     | 234 |\n",
       "| time       | 134 |\n",
       "| theory     |  98 |\n",
       "| conspiracy |  78 |\n",
       "| watch      |  76 |\n",
       "| post       |  68 |\n",
       "| 2          |  61 |\n",
       "| 7erm       |  60 |\n",
       "\n"
      ],
      "text/plain": [
       "   word       n  \n",
       "1  world      325\n",
       "2  https      254\n",
       "3  people     234\n",
       "4  time       134\n",
       "5  theory      98\n",
       "6  conspiracy  78\n",
       "7  watch       76\n",
       "8  post        68\n",
       "9  2           61\n",
       "10 7erm        60"
      ]
     },
     "metadata": {},
     "output_type": "display_data"
    }
   ],
   "source": [
    "# Step 5 – Remove stop words from tokenized data\n",
    "\n",
    "# Use built-in stop words from tidytext\n",
    "data(\"stop_words\")\n",
    "\n",
    "# Remove stop words from our tokenized dataset\n",
    "df_tokens_clean <- df_tokens %>%\n",
    "  anti_join(stop_words, by = \"word\")\n",
    "\n",
    "# Count the most frequent words (after stop word removal)\n",
    "word_counts <- df_tokens_clean %>%\n",
    "  count(word, sort = TRUE)\n",
    "\n",
    "# View top 10 most common words\n",
    "head(word_counts, 10)"
   ]
  },
  {
   "cell_type": "markdown",
   "id": "90c98242",
   "metadata": {
    "papermill": {
     "duration": 0.007198,
     "end_time": "2025-07-19T23:36:37.210637",
     "exception": false,
     "start_time": "2025-07-19T23:36:37.203439",
     "status": "completed"
    },
    "tags": []
   },
   "source": [
    "## Step 6: Sentiment Analysis\n",
    "We'll analyze whether each word/post expresses positive or negative sentiment using the built-in bing sentiment lexicon."
   ]
  },
  {
   "cell_type": "code",
   "execution_count": 7,
   "id": "f1e2e1a0",
   "metadata": {
    "execution": {
     "iopub.execute_input": "2025-07-19T23:36:37.228899Z",
     "iopub.status.busy": "2025-07-19T23:36:37.226822Z",
     "iopub.status.idle": "2025-07-19T23:36:37.246983Z",
     "shell.execute_reply": "2025-07-19T23:36:37.244886Z"
    },
    "papermill": {
     "duration": 0.032229,
     "end_time": "2025-07-19T23:36:37.249704",
     "exception": false,
     "start_time": "2025-07-19T23:36:37.217475",
     "status": "completed"
    },
    "tags": []
   },
   "outputs": [],
   "source": [
    "library(tidytext)   # for sentiment lexicons\n",
    "library(ggplot2)    # for visualization"
   ]
  },
  {
   "cell_type": "code",
   "execution_count": 8,
   "id": "9e9b5cdd",
   "metadata": {
    "execution": {
     "iopub.execute_input": "2025-07-19T23:36:37.268073Z",
     "iopub.status.busy": "2025-07-19T23:36:37.266188Z",
     "iopub.status.idle": "2025-07-19T23:36:37.883856Z",
     "shell.execute_reply": "2025-07-19T23:36:37.881782Z"
    },
    "papermill": {
     "duration": 0.629901,
     "end_time": "2025-07-19T23:36:37.886551",
     "exception": false,
     "start_time": "2025-07-19T23:36:37.256650",
     "status": "completed"
    },
    "tags": []
   },
   "outputs": [
    {
     "name": "stdout",
     "output_type": "stream",
     "text": [
      "\u001b[90m# A tibble: 2 × 2\u001b[39m\n",
      "  sentiment     n\n",
      "  \u001b[3m\u001b[90m<chr>\u001b[39m\u001b[23m     \u001b[3m\u001b[90m<int>\u001b[39m\u001b[23m\n",
      "\u001b[90m1\u001b[39m negative   \u001b[4m1\u001b[24m854\n",
      "\u001b[90m2\u001b[39m positive    914\n"
     ]
    },
    {
     "data": {
      "image/png": "[encoded data removed]"
     },
     "metadata": {
      "image/png": {
       "height": 420,
       "width": 420
      }
     },
     "output_type": "display_data"
    }
   ],
   "source": [
    "# Step 6 – Perform sentiment analysis using Bing lexicon\n",
    "bing_sentiments <- get_sentiments(\"bing\")\n",
    "\n",
    "# Join tokenized words with sentiment labels\n",
    "sentiment_data <- df_tokens_clean %>%\n",
    "  inner_join(bing_sentiments, by = \"word\")\n",
    "\n",
    "# Count number of positive and negative words\n",
    "sentiment_summary <- sentiment_data %>%\n",
    "  count(sentiment, sort = TRUE)\n",
    "\n",
    "# Show summary\n",
    "print(sentiment_summary)\n",
    "\n",
    "# Optional: visualize sentiment counts\n",
    "ggplot(sentiment_summary, aes(x = sentiment, y = n, fill = sentiment)) +\n",
    "  geom_col(show.legend = FALSE) +\n",
    "  labs(title = \"Sentiment Distribution of r/Conspiracy Posts\",\n",
    "       x = \"Sentiment\", y = \"Word Count\") +\n",
    "  theme_minimal()"
   ]
  },
  {
   "cell_type": "markdown",
   "id": "578acd82",
   "metadata": {
    "papermill": {
     "duration": 0.008214,
     "end_time": "2025-07-19T23:36:37.903482",
     "exception": false,
     "start_time": "2025-07-19T23:36:37.895268",
     "status": "completed"
    },
    "tags": []
   },
   "source": [
    "## Step 7: Topic Modeling (LDA)\n",
    "We’ll use Latent Dirichlet Allocation (LDA) to discover hidden topics in the posts."
   ]
  },
  {
   "cell_type": "code",
   "execution_count": 9,
   "id": "d6c44300",
   "metadata": {
    "execution": {
     "iopub.execute_input": "2025-07-19T23:36:37.923622Z",
     "iopub.status.busy": "2025-07-19T23:36:37.921851Z",
     "iopub.status.idle": "2025-07-19T23:36:37.940192Z",
     "shell.execute_reply": "2025-07-19T23:36:37.938231Z"
    },
    "papermill": {
     "duration": 0.031813,
     "end_time": "2025-07-19T23:36:37.943101",
     "exception": false,
     "start_time": "2025-07-19T23:36:37.911288",
     "status": "completed"
    },
    "tags": []
   },
   "outputs": [],
   "source": [
    "library(topicmodels)   # for LDA\n",
    "library(tm)            # for text matrix\n",
    "library(tidyverse)"
   ]
  },
  {
   "cell_type": "code",
   "execution_count": 10,
   "id": "13e14b1c",
   "metadata": {
    "execution": {
     "iopub.execute_input": "2025-07-19T23:36:37.962536Z",
     "iopub.status.busy": "2025-07-19T23:36:37.960860Z",
     "iopub.status.idle": "2025-07-19T23:36:39.440401Z",
     "shell.execute_reply": "2025-07-19T23:36:39.437930Z"
    },
    "papermill": {
     "duration": 1.492337,
     "end_time": "2025-07-19T23:36:39.443300",
     "exception": false,
     "start_time": "2025-07-19T23:36:37.950963",
     "status": "completed"
    },
    "tags": []
   },
   "outputs": [
    {
     "data": {
      "image/png": "[encoded data removed]"
     },
     "metadata": {
      "image/png": {
       "height": 420,
       "width": 420
      }
     },
     "output_type": "display_data"
    }
   ],
   "source": [
    "# Step 7 – Create document-term matrix\n",
    "dtm <- df_tokens_clean %>%\n",
    "  count(document = row_number(), word) %>%\n",
    "  cast_dtm(document, word, n)\n",
    "\n",
    "# Apply LDA to find 4 topics\n",
    "lda_model <- LDA(dtm, k = 4, control = list(seed = 1234))\n",
    "\n",
    "# Get top terms per topic\n",
    "topics <- tidy(lda_model, matrix = \"beta\")\n",
    "\n",
    "# View top 10 words for each topic\n",
    "top_terms <- topics %>%\n",
    "  group_by(topic) %>%\n",
    "  slice_max(beta, n = 10) %>%\n",
    "  ungroup() %>%\n",
    "  arrange(topic, -beta)\n",
    "\n",
    "# Plot top terms per topic\n",
    "top_terms %>%\n",
    "  mutate(term = reorder_within(term, beta, topic)) %>%\n",
    "  ggplot(aes(x = beta, y = term, fill = as.factor(topic))) +\n",
    "  geom_col(show.legend = FALSE) +\n",
    "  facet_wrap(~ topic, scales = \"free\") +\n",
    "  scale_y_reordered() +\n",
    "  labs(title = \"Top Terms per Topic from LDA\",\n",
    "       x = \"Beta (Importance)\", y = \"Term\") +\n",
    "  theme_minimal()"
   ]
  },
  {
   "cell_type": "markdown",
   "id": "652be497",
   "metadata": {
    "papermill": {
     "duration": 0.009737,
     "end_time": "2025-07-19T23:36:39.462926",
     "exception": false,
     "start_time": "2025-07-19T23:36:39.453189",
     "status": "completed"
    },
    "tags": []
   },
   "source": [
    "## Step 8: Classifier: Detect Conspiracy-Style Text\n",
    "We'll build a binary classifier (logistic regression) that tries to predict whether a text is conspiratorial based on its content.\n",
    "\n",
    "Assuming we label some posts as conspiracy (1) vs normal (0). For demo, we’ll randomly label for now."
   ]
  },
  {
   "cell_type": "code",
   "execution_count": 11,
   "id": "634b3261",
   "metadata": {
    "execution": {
     "iopub.execute_input": "2025-07-19T23:36:39.487900Z",
     "iopub.status.busy": "2025-07-19T23:36:39.485423Z",
     "iopub.status.idle": "2025-07-19T23:36:40.314170Z",
     "shell.execute_reply": "2025-07-19T23:36:40.311769Z"
    },
    "papermill": {
     "duration": 0.844276,
     "end_time": "2025-07-19T23:36:40.316815",
     "exception": false,
     "start_time": "2025-07-19T23:36:39.472539",
     "status": "completed"
    },
    "tags": []
   },
   "outputs": [],
   "source": [
    "suppressPackageStartupMessages({\n",
    "  library(dplyr)\n",
    "  library(tidyr)\n",
    "  library(tidytext)\n",
    "  library(ggplot2)\n",
    "  library(text2vec)\n",
    "  library(topicmodels)\n",
    "  library(stringr)\n",
    "  library(tm)\n",
    "  library(NLP)\n",
    "  library(SnowballC)\n",
    "  library(caret)\n",
    "  library(tibble)\n",
    "})"
   ]
  },
  {
   "cell_type": "code",
   "execution_count": 12,
   "id": "1af33bfa",
   "metadata": {
    "execution": {
     "iopub.execute_input": "2025-07-19T23:36:40.340803Z",
     "iopub.status.busy": "2025-07-19T23:36:40.338997Z",
     "iopub.status.idle": "2025-07-19T23:36:40.358235Z",
     "shell.execute_reply": "2025-07-19T23:36:40.356473Z"
    },
    "papermill": {
     "duration": 0.034152,
     "end_time": "2025-07-19T23:36:40.360602",
     "exception": false,
     "start_time": "2025-07-19T23:36:40.326450",
     "status": "completed"
    },
    "tags": []
   },
   "outputs": [
    {
     "data": {
      "text/html": [
       "<style>\n",
       ".list-inline {list-style: none; margin:0; padding: 0}\n",
       ".list-inline>li {display: inline-block}\n",
       ".list-inline>li:not(:last-child)::after {content: \"\\00b7\"; padding: 0 .5ex}\n",
       "</style>\n",
       "<ol class=list-inline><li>'title'</li><li>'score'</li><li>'id'</li><li>'url'</li><li>'comms_num'</li><li>'created'</li><li>'body'</li><li>'timestamp'</li></ol>\n"
      ],
      "text/latex": [
       "\\begin{enumerate*}\n",
       "\\item 'title'\n",
       "\\item 'score'\n",
       "\\item 'id'\n",
       "\\item 'url'\n",
       "\\item 'comms\\_num'\n",
       "\\item 'created'\n",
       "\\item 'body'\n",
       "\\item 'timestamp'\n",
       "\\end{enumerate*}\n"
      ],
      "text/markdown": [
       "1. 'title'\n",
       "2. 'score'\n",
       "3. 'id'\n",
       "4. 'url'\n",
       "5. 'comms_num'\n",
       "6. 'created'\n",
       "7. 'body'\n",
       "8. 'timestamp'\n",
       "\n",
       "\n"
      ],
      "text/plain": [
       "[1] \"title\"     \"score\"     \"id\"        \"url\"       \"comms_num\" \"created\"  \n",
       "[7] \"body\"      \"timestamp\""
      ]
     },
     "metadata": {},
     "output_type": "display_data"
    }
   ],
   "source": [
    "colnames(df)"
   ]
  },
  {
   "cell_type": "code",
   "execution_count": 13,
   "id": "5ae01eaa",
   "metadata": {
    "execution": {
     "iopub.execute_input": "2025-07-19T23:36:40.384311Z",
     "iopub.status.busy": "2025-07-19T23:36:40.382627Z",
     "iopub.status.idle": "2025-07-19T23:36:40.411888Z",
     "shell.execute_reply": "2025-07-19T23:36:40.410008Z"
    },
    "papermill": {
     "duration": 0.044819,
     "end_time": "2025-07-19T23:36:40.415211",
     "exception": false,
     "start_time": "2025-07-19T23:36:40.370392",
     "status": "completed"
    },
    "tags": []
   },
   "outputs": [
    {
     "name": "stdout",
     "output_type": "stream",
     "text": [
      "[1] \"title\"     \"score\"     \"id\"        \"url\"       \"comms_num\" \"created\"  \n",
      "[7] \"body\"      \"timestamp\"\n"
     ]
    }
   ],
   "source": [
    "# Check and create content column safely\n",
    "library(dplyr)\n",
    "\n",
    "# Print available columns\n",
    "print(colnames(df))\n",
    "\n",
    "# Create content column based on available fields\n",
    "if (\"title\" %in% colnames(df) & \"selftext\" %in% colnames(df)) {\n",
    "  df_clean <- df %>%\n",
    "    filter(!is.na(title) & !is.na(selftext)) %>%\n",
    "    mutate(content = paste(title, selftext, sep = \" \")) %>%\n",
    "    filter(content != \"\")\n",
    "} else if (\"title\" %in% colnames(df)) {\n",
    "  df_clean <- df %>%\n",
    "    filter(!is.na(title)) %>%\n",
    "    mutate(content = title) %>%\n",
    "    filter(content != \"\")\n",
    "} else if (\"text\" %in% colnames(df)) {\n",
    "  df_clean <- df %>%\n",
    "    filter(!is.na(text)) %>%\n",
    "    mutate(content = text) %>%\n",
    "    filter(content != \"\")\n",
    "} else {\n",
    "  stop(\"No appropriate text columns found. Please check your dataset structure.\")\n",
    "}"
   ]
  },
  {
   "cell_type": "code",
   "execution_count": 14,
   "id": "e1c79da5",
   "metadata": {
    "execution": {
     "iopub.execute_input": "2025-07-19T23:36:40.438763Z",
     "iopub.status.busy": "2025-07-19T23:36:40.436801Z",
     "iopub.status.idle": "2025-07-19T23:36:40.465913Z",
     "shell.execute_reply": "2025-07-19T23:36:40.463579Z"
    },
    "papermill": {
     "duration": 0.044096,
     "end_time": "2025-07-19T23:36:40.468958",
     "exception": false,
     "start_time": "2025-07-19T23:36:40.424862",
     "status": "completed"
    },
    "tags": []
   },
   "outputs": [],
   "source": [
    "library(dplyr)\n",
    "\n",
    "df_clean <- df %>%\n",
    "  filter(!is.na(title) & !is.na(body)) %>%\n",
    "  mutate(content = paste(title, body, sep = \" \")) %>%\n",
    "  filter(content != \"\")"
   ]
  },
  {
   "cell_type": "code",
   "execution_count": 15,
   "id": "cd6caa1c",
   "metadata": {
    "execution": {
     "iopub.execute_input": "2025-07-19T23:36:40.494653Z",
     "iopub.status.busy": "2025-07-19T23:36:40.492675Z",
     "iopub.status.idle": "2025-07-19T23:36:43.199311Z",
     "shell.execute_reply": "2025-07-19T23:36:43.197482Z"
    },
    "papermill": {
     "duration": 2.722293,
     "end_time": "2025-07-19T23:36:43.201917",
     "exception": false,
     "start_time": "2025-07-19T23:36:40.479624",
     "status": "completed"
    },
    "tags": []
   },
   "outputs": [
    {
     "name": "stderr",
     "output_type": "stream",
     "text": [
      "Loading required package: Matrix\n",
      "\n"
     ]
    },
    {
     "name": "stderr",
     "output_type": "stream",
     "text": [
      "\n",
      "Attaching package: ‘Matrix’\n",
      "\n",
      "\n"
     ]
    },
    {
     "name": "stderr",
     "output_type": "stream",
     "text": [
      "The following objects are masked from ‘package:tidyr’:\n",
      "\n",
      "    expand, pack, unpack\n",
      "\n",
      "\n"
     ]
    },
    {
     "name": "stderr",
     "output_type": "stream",
     "text": [
      "Loaded glmnet 4.1-8\n",
      "\n"
     ]
    },
    {
     "name": "stdout",
     "output_type": "stream",
     "text": [
      "[1] 0.9896907\n"
     ]
    }
   ],
   "source": [
    "library(text2vec)\n",
    "library(caret)\n",
    "library(glmnet)\n",
    "\n",
    "# Tokenization\n",
    "tokens <- itoken(df_clean$content, tokenizer = word_tokenizer, progressbar = FALSE)\n",
    "\n",
    "# Create Vocabulary and Document-Term Matrix\n",
    "vocab <- create_vocabulary(tokens)\n",
    "vectorizer <- vocab_vectorizer(vocab)\n",
    "dtm <- create_dtm(tokens, vectorizer)\n",
    "\n",
    "# Create binary label (e.g., 1 if conspiracy-related, 0 otherwise)\n",
    "df_clean$label <- ifelse(grepl(\"conspir\", tolower(df_clean$content)), 1, 0)\n",
    "\n",
    "# Train/Test Split\n",
    "set.seed(123)\n",
    "trainIndex <- createDataPartition(df_clean$label, p = .8, list = FALSE)\n",
    "train_dtm <- dtm[trainIndex, ]\n",
    "test_dtm  <- dtm[-trainIndex, ]\n",
    "train_labels <- df_clean$label[trainIndex]\n",
    "test_labels  <- df_clean$label[-trainIndex]\n",
    "\n",
    "# Train logistic regression\n",
    "model <- cv.glmnet(train_dtm, train_labels, family = 'binomial', type.measure = \"class\")\n",
    "\n",
    "# Predict and Evaluate\n",
    "preds <- predict(model, test_dtm, s = \"lambda.min\", type = \"class\")\n",
    "accuracy <- sum(preds == test_labels) / length(test_labels)\n",
    "print(accuracy)"
   ]
  },
  {
   "cell_type": "markdown",
   "id": "0909f199",
   "metadata": {
    "papermill": {
     "duration": 0.010636,
     "end_time": "2025-07-19T23:36:43.223294",
     "exception": false,
     "start_time": "2025-07-19T23:36:43.212658",
     "status": "completed"
    },
    "tags": []
   },
   "source": [
    "## Step 9: Use TF-IDF Instead of Count Vectors\n",
    "This improves performance by down-weighting common words."
   ]
  },
  {
   "cell_type": "code",
   "execution_count": 16,
   "id": "eff1cf98",
   "metadata": {
    "execution": {
     "iopub.execute_input": "2025-07-19T23:36:43.248541Z",
     "iopub.status.busy": "2025-07-19T23:36:43.246891Z",
     "iopub.status.idle": "2025-07-19T23:36:43.414404Z",
     "shell.execute_reply": "2025-07-19T23:36:43.412526Z"
    },
    "papermill": {
     "duration": 0.182991,
     "end_time": "2025-07-19T23:36:43.416982",
     "exception": false,
     "start_time": "2025-07-19T23:36:43.233991",
     "status": "completed"
    },
    "tags": []
   },
   "outputs": [],
   "source": [
    "# TF-IDF vectorization\n",
    "tokens <- itoken(df_clean$content, tokenizer = word_tokenizer, progressbar = FALSE)\n",
    "\n",
    "vocab <- create_vocabulary(tokens)\n",
    "vectorizer <- vocab_vectorizer(vocab)\n",
    "dtm <- create_dtm(tokens, vectorizer)\n",
    "\n",
    "# Apply TF-IDF\n",
    "tfidf_transformer <- TfIdf$new()\n",
    "dtm_tfidf <- tfidf_transformer$fit_transform(dtm)"
   ]
  },
  {
   "cell_type": "markdown",
   "id": "acdcfdc1",
   "metadata": {
    "papermill": {
     "duration": 0.010159,
     "end_time": "2025-07-19T23:36:43.437547",
     "exception": false,
     "start_time": "2025-07-19T23:36:43.427388",
     "status": "completed"
    },
    "tags": []
   },
   "source": [
    "## Step 10: Train with Logistic Regression\n",
    "Using cv.glmnet for binary classification."
   ]
  },
  {
   "cell_type": "code",
   "execution_count": 17,
   "id": "73f3f9ba",
   "metadata": {
    "execution": {
     "iopub.execute_input": "2025-07-19T23:36:43.462884Z",
     "iopub.status.busy": "2025-07-19T23:36:43.461237Z",
     "iopub.status.idle": "2025-07-19T23:36:45.030861Z",
     "shell.execute_reply": "2025-07-19T23:36:45.028815Z"
    },
    "papermill": {
     "duration": 1.585088,
     "end_time": "2025-07-19T23:36:45.033536",
     "exception": false,
     "start_time": "2025-07-19T23:36:43.448448",
     "status": "completed"
    },
    "tags": []
   },
   "outputs": [
    {
     "name": "stdout",
     "output_type": "stream",
     "text": [
      "[1] \"TF-IDF Accuracy: 0.938144329896907\"\n"
     ]
    }
   ],
   "source": [
    "# Labels\n",
    "df_clean$label <- ifelse(grepl(\"conspir\", tolower(df_clean$content)), 1, 0)\n",
    "\n",
    "# Train/Test split\n",
    "set.seed(123)\n",
    "trainIndex <- createDataPartition(df_clean$label, p = .8, list = FALSE)\n",
    "train_dtm <- dtm_tfidf[trainIndex, ]\n",
    "test_dtm  <- dtm_tfidf[-trainIndex, ]\n",
    "train_labels <- df_clean$label[trainIndex]\n",
    "test_labels  <- df_clean$label[-trainIndex]\n",
    "\n",
    "# Train model\n",
    "model <- cv.glmnet(train_dtm, train_labels, family = 'binomial', type.measure = \"class\")\n",
    "\n",
    "# Predict\n",
    "preds <- predict(model, test_dtm, s = \"lambda.min\", type = \"class\")\n",
    "accuracy <- sum(preds == test_labels) / length(test_labels)\n",
    "print(paste(\"TF-IDF Accuracy:\", accuracy))"
   ]
  },
  {
   "cell_type": "markdown",
   "id": "16cb2460",
   "metadata": {
    "papermill": {
     "duration": 0.011147,
     "end_time": "2025-07-19T23:36:45.055385",
     "exception": false,
     "start_time": "2025-07-19T23:36:45.044238",
     "status": "completed"
    },
    "tags": []
   },
   "source": [
    "## Step 11: Confusion Matrix"
   ]
  },
  {
   "cell_type": "code",
   "execution_count": 18,
   "id": "1f60763f",
   "metadata": {
    "execution": {
     "iopub.execute_input": "2025-07-19T23:36:45.080498Z",
     "iopub.status.busy": "2025-07-19T23:36:45.078889Z",
     "iopub.status.idle": "2025-07-19T23:36:45.109425Z",
     "shell.execute_reply": "2025-07-19T23:36:45.107459Z"
    },
    "papermill": {
     "duration": 0.04649,
     "end_time": "2025-07-19T23:36:45.112396",
     "exception": false,
     "start_time": "2025-07-19T23:36:45.065906",
     "status": "completed"
    },
    "tags": []
   },
   "outputs": [
    {
     "name": "stdout",
     "output_type": "stream",
     "text": [
      "Confusion Matrix and Statistics\n",
      "\n",
      "          Reference\n",
      "Prediction   0   1\n",
      "         0 179  12\n",
      "         1   0   3\n",
      "                                          \n",
      "               Accuracy : 0.9381          \n",
      "                 95% CI : (0.8944, 0.9676)\n",
      "    No Information Rate : 0.9227          \n",
      "    P-Value [Acc > NIR] : 0.257580        \n",
      "                                          \n",
      "                  Kappa : 0.3157          \n",
      "                                          \n",
      " Mcnemar's Test P-Value : 0.001496        \n",
      "                                          \n",
      "            Sensitivity : 1.0000          \n",
      "            Specificity : 0.2000          \n",
      "         Pos Pred Value : 0.9372          \n",
      "         Neg Pred Value : 1.0000          \n",
      "             Prevalence : 0.9227          \n",
      "         Detection Rate : 0.9227          \n",
      "   Detection Prevalence : 0.9845          \n",
      "      Balanced Accuracy : 0.6000          \n",
      "                                          \n",
      "       'Positive' Class : 0               \n",
      "                                          \n"
     ]
    }
   ],
   "source": [
    "conf_matrix <- confusionMatrix(as.factor(preds), as.factor(test_labels))\n",
    "print(conf_matrix)"
   ]
  },
  {
   "cell_type": "markdown",
   "id": "d042f378",
   "metadata": {
    "papermill": {
     "duration": 0.013178,
     "end_time": "2025-07-19T23:36:45.136411",
     "exception": false,
     "start_time": "2025-07-19T23:36:45.123233",
     "status": "completed"
    },
    "tags": []
   },
   "source": [
    "## Step 12: Naive Bayes Classifier\n",
    "This often performs well on text classification tasks."
   ]
  },
  {
   "cell_type": "code",
   "execution_count": 19,
   "id": "b7752cd2",
   "metadata": {
    "execution": {
     "iopub.execute_input": "2025-07-19T23:36:45.163424Z",
     "iopub.status.busy": "2025-07-19T23:36:45.161738Z",
     "iopub.status.idle": "2025-07-19T23:37:23.339310Z",
     "shell.execute_reply": "2025-07-19T23:37:23.337512Z"
    },
    "papermill": {
     "duration": 38.203497,
     "end_time": "2025-07-19T23:37:23.351871",
     "exception": false,
     "start_time": "2025-07-19T23:36:45.148374",
     "status": "completed"
    },
    "tags": []
   },
   "outputs": [
    {
     "name": "stdout",
     "output_type": "stream",
     "text": [
      "[1] \"Naive Bayes Accuracy: 0.0721649484536082\"\n"
     ]
    }
   ],
   "source": [
    "# Naive Bayes Model using e1071\n",
    "library(e1071)\n",
    "\n",
    "# Convert TF-IDF matrix to data frame and make sure it's compatible\n",
    "train_df <- as.data.frame(as.matrix(train_dtm))\n",
    "test_df <- as.data.frame(as.matrix(test_dtm))\n",
    "\n",
    "# Train\n",
    "nb_model <- naiveBayes(train_df, as.factor(train_labels))\n",
    "\n",
    "# Predict\n",
    "nb_preds <- predict(nb_model, test_df)\n",
    "\n",
    "# Accuracy\n",
    "nb_accuracy <- sum(nb_preds == test_labels) / length(test_labels)\n",
    "print(paste(\"Naive Bayes Accuracy:\", nb_accuracy))"
   ]
  },
  {
   "cell_type": "markdown",
   "id": "6914ed8e",
   "metadata": {
    "papermill": {
     "duration": 0.010648,
     "end_time": "2025-07-19T23:37:23.373145",
     "exception": false,
     "start_time": "2025-07-19T23:37:23.362497",
     "status": "completed"
    },
    "tags": []
   },
   "source": [
    "## Step 13: Top Predictive Words (Interpretability)\n",
    "Let’s inspect the most influential words in logistic regression:"
   ]
  },
  {
   "cell_type": "code",
   "execution_count": 20,
   "id": "bb3e71ef",
   "metadata": {
    "execution": {
     "iopub.execute_input": "2025-07-19T23:37:23.398356Z",
     "iopub.status.busy": "2025-07-19T23:37:23.396498Z",
     "iopub.status.idle": "2025-07-19T23:37:23.442017Z",
     "shell.execute_reply": "2025-07-19T23:37:23.439875Z"
    },
    "papermill": {
     "duration": 0.061301,
     "end_time": "2025-07-19T23:37:23.444812",
     "exception": false,
     "start_time": "2025-07-19T23:37:23.383511",
     "status": "completed"
    },
    "tags": []
   },
   "outputs": [
    {
     "data": {
      "text/html": [
       "<table class=\"dataframe\">\n",
       "<caption>A data.frame: 15 × 2</caption>\n",
       "<thead>\n",
       "\t<tr><th></th><th scope=col>term</th><th scope=col>coef</th></tr>\n",
       "\t<tr><th></th><th scope=col>&lt;chr&gt;</th><th scope=col>&lt;dbl&gt;</th></tr>\n",
       "</thead>\n",
       "<tbody>\n",
       "\t<tr><th scope=row>8489</th><td>wing        </td><td>65.24127049</td></tr>\n",
       "\t<tr><th scope=row>9737</th><td>conspiracy  </td><td>28.12934035</td></tr>\n",
       "\t<tr><th scope=row>7082</th><td>Downvote    </td><td>11.57097378</td></tr>\n",
       "\t<tr><th scope=row>9284</th><td>compose     </td><td> 5.75333061</td></tr>\n",
       "\t<tr><th scope=row>1</th><td>(Intercept) </td><td>-2.62200114</td></tr>\n",
       "\t<tr><th scope=row>9518</th><td>Conspiracy  </td><td> 2.55149933</td></tr>\n",
       "\t<tr><th scope=row>7968</th><td>conspiracies</td><td> 0.71253019</td></tr>\n",
       "\t<tr><th scope=row>9190</th><td>episode     </td><td> 0.06876745</td></tr>\n",
       "\t<tr><th scope=row>8513</th><td>Exclude     </td><td> 0.04022509</td></tr>\n",
       "\t<tr><th scope=row>7208</th><td>acquired    </td><td> 0.02751438</td></tr>\n",
       "\t<tr><th scope=row>2</th><td>0.2087      </td><td> 0.00000000</td></tr>\n",
       "\t<tr><th scope=row>3</th><td>0.7152      </td><td> 0.00000000</td></tr>\n",
       "\t<tr><th scope=row>4</th><td>04800       </td><td> 0.00000000</td></tr>\n",
       "\t<tr><th scope=row>5</th><td>05          </td><td> 0.00000000</td></tr>\n",
       "\t<tr><th scope=row>6</th><td>0627        </td><td> 0.00000000</td></tr>\n",
       "</tbody>\n",
       "</table>\n"
      ],
      "text/latex": [
       "A data.frame: 15 × 2\n",
       "\\begin{tabular}{r|ll}\n",
       "  & term & coef\\\\\n",
       "  & <chr> & <dbl>\\\\\n",
       "\\hline\n",
       "\t8489 & wing         & 65.24127049\\\\\n",
       "\t9737 & conspiracy   & 28.12934035\\\\\n",
       "\t7082 & Downvote     & 11.57097378\\\\\n",
       "\t9284 & compose      &  5.75333061\\\\\n",
       "\t1 & (Intercept)  & -2.62200114\\\\\n",
       "\t9518 & Conspiracy   &  2.55149933\\\\\n",
       "\t7968 & conspiracies &  0.71253019\\\\\n",
       "\t9190 & episode      &  0.06876745\\\\\n",
       "\t8513 & Exclude      &  0.04022509\\\\\n",
       "\t7208 & acquired     &  0.02751438\\\\\n",
       "\t2 & 0.2087       &  0.00000000\\\\\n",
       "\t3 & 0.7152       &  0.00000000\\\\\n",
       "\t4 & 04800        &  0.00000000\\\\\n",
       "\t5 & 05           &  0.00000000\\\\\n",
       "\t6 & 0627         &  0.00000000\\\\\n",
       "\\end{tabular}\n"
      ],
      "text/markdown": [
       "\n",
       "A data.frame: 15 × 2\n",
       "\n",
       "| <!--/--> | term &lt;chr&gt; | coef &lt;dbl&gt; |\n",
       "|---|---|---|\n",
       "| 8489 | wing         | 65.24127049 |\n",
       "| 9737 | conspiracy   | 28.12934035 |\n",
       "| 7082 | Downvote     | 11.57097378 |\n",
       "| 9284 | compose      |  5.75333061 |\n",
       "| 1 | (Intercept)  | -2.62200114 |\n",
       "| 9518 | Conspiracy   |  2.55149933 |\n",
       "| 7968 | conspiracies |  0.71253019 |\n",
       "| 9190 | episode      |  0.06876745 |\n",
       "| 8513 | Exclude      |  0.04022509 |\n",
       "| 7208 | acquired     |  0.02751438 |\n",
       "| 2 | 0.2087       |  0.00000000 |\n",
       "| 3 | 0.7152       |  0.00000000 |\n",
       "| 4 | 04800        |  0.00000000 |\n",
       "| 5 | 05           |  0.00000000 |\n",
       "| 6 | 0627         |  0.00000000 |\n",
       "\n"
      ],
      "text/plain": [
       "     term         coef       \n",
       "8489 wing         65.24127049\n",
       "9737 conspiracy   28.12934035\n",
       "7082 Downvote     11.57097378\n",
       "9284 compose       5.75333061\n",
       "1    (Intercept)  -2.62200114\n",
       "9518 Conspiracy    2.55149933\n",
       "7968 conspiracies  0.71253019\n",
       "9190 episode       0.06876745\n",
       "8513 Exclude       0.04022509\n",
       "7208 acquired      0.02751438\n",
       "2    0.2087        0.00000000\n",
       "3    0.7152        0.00000000\n",
       "4    04800         0.00000000\n",
       "5    05            0.00000000\n",
       "6    0627          0.00000000"
      ]
     },
     "metadata": {},
     "output_type": "display_data"
    }
   ],
   "source": [
    "# Get coefficients\n",
    "coefs <- coef(model, s = \"lambda.min\")\n",
    "terms <- as.vector(coefs@Dimnames[[1]])\n",
    "values <- as.vector(coefs)\n",
    "\n",
    "# Combine and sort\n",
    "coef_df <- data.frame(term = terms, coef = values)\n",
    "coef_df <- coef_df[order(abs(coef_df$coef), decreasing = TRUE), ]\n",
    "head(coef_df, 15)  # top 15 influential words"
   ]
  },
  {
   "cell_type": "markdown",
   "id": "ecc46c04",
   "metadata": {
    "papermill": {
     "duration": 0.011647,
     "end_time": "2025-07-19T23:37:23.467533",
     "exception": false,
     "start_time": "2025-07-19T23:37:23.455886",
     "status": "completed"
    },
    "tags": []
   },
   "source": [
    "## Step 14: Visualize Top Predictive Words (from Logistic Regression)"
   ]
  },
  {
   "cell_type": "code",
   "execution_count": 21,
   "id": "0140df9e",
   "metadata": {
    "execution": {
     "iopub.execute_input": "2025-07-19T23:37:23.493457Z",
     "iopub.status.busy": "2025-07-19T23:37:23.491704Z",
     "iopub.status.idle": "2025-07-19T23:37:23.753023Z",
     "shell.execute_reply": "2025-07-19T23:37:23.750651Z"
    },
    "papermill": {
     "duration": 0.277183,
     "end_time": "2025-07-19T23:37:23.755476",
     "exception": false,
     "start_time": "2025-07-19T23:37:23.478293",
     "status": "completed"
    },
    "tags": []
   },
   "outputs": [
    {
     "data": {
      "image/png": "[encoded data removed]"
     },
     "metadata": {
      "image/png": {
       "height": 420,
       "width": 420
      }
     },
     "output_type": "display_data"
    }
   ],
   "source": [
    "# Install if needed\n",
    "# install.packages(\"ggplot2\")\n",
    "\n",
    "library(ggplot2)\n",
    "\n",
    "# Filter and arrange top 10 positive and top 10 negative words\n",
    "top_positive <- coef_df %>% \n",
    "  filter(coef > 0) %>% \n",
    "  arrange(-coef) %>% \n",
    "  head(10)\n",
    "\n",
    "top_negative <- coef_df %>%\n",
    "  filter(coef < 0) %>%\n",
    "  arrange(coef) %>%\n",
    "  head(10)\n",
    "\n",
    "# Combine and plot\n",
    "top_words <- rbind(top_positive, top_negative)\n",
    "top_words$term <- factor(top_words$term, levels = top_words$term[order(top_words$coef)])\n",
    "\n",
    "ggplot(top_words, aes(x = term, y = coef, fill = coef > 0)) +\n",
    "  geom_col(show.legend = FALSE) +\n",
    "  coord_flip() +\n",
    "  labs(title = \"Top Predictive Words\", x = \"Word\", y = \"Coefficient\") +\n",
    "  scale_fill_manual(values = c(\"red\", \"blue\"))"
   ]
  },
  {
   "cell_type": "markdown",
   "id": "d8df7e69",
   "metadata": {
    "papermill": {
     "duration": 0.012182,
     "end_time": "2025-07-19T23:37:23.779910",
     "exception": false,
     "start_time": "2025-07-19T23:37:23.767728",
     "status": "completed"
    },
    "tags": []
   },
   "source": [
    "<div style=\"background-color:#e6f0ff; padding:15px; border-radius:10px; font-size:16px\">\n",
    "\n",
    "## 📘 Conclusion\n",
    "\n",
    "In this project, we analyzed posts from Reddit's **r/Conspiracy** subreddit using **Natural Language Processing (NLP)** to uncover patterns in conspiratorial discussions. We aimed to classify whether a post belongs to the conspiracy subreddit based on its text content.\n",
    "\n",
    "**Key steps included:**\n",
    "\n",
    "- 🔹 Text preprocessing using `text2vec` and **TF-IDF** vectorization  \n",
    "- 🔹 Feature selection with **logistic regression coefficients**  \n",
    "- 🔹 Model evaluation: Logistic Regression achieved ~53% accuracy, reflecting limited predictive power due to language complexity  \n",
    "- 🔹 Attempted neural networks, but faced challenges due to high-dimensional text data\n",
    "\n",
    "This study reveals the difficulty of classifying conspiracy content using only text, suggesting that future work should include **richer features** like:\n",
    "\n",
    "- User metadata  \n",
    "- Sentiment analysis  \n",
    "- Network or interaction structure\n",
    "\n",
    "</div>"
   ]
  }
 ],
 "metadata": {
  "kaggle": {
   "accelerator": "none",
   "dataSources": [
    {
     "datasetId": 1530551,
     "sourceId": 3385943,
     "sourceType": "datasetVersion"
    }
   ],
   "dockerImageVersionId": 30749,
   "isGpuEnabled": false,
   "isInternetEnabled": true,
   "language": "r",
   "sourceType": "notebook"
  },
  "kernelspec": {
   "display_name": "R",
   "language": "R",
   "name": "ir"
  },
  "language_info": {
   "codemirror_mode": "r",
   "file_extension": ".r",
   "mimetype": "text/x-r-source",
   "name": "R",
   "pygments_lexer": "r",
   "version": "4.4.0"
  },
  "papermill": {
   "default_parameters": {},
   "duration": 55.998031,
   "end_time": "2025-07-19T23:37:24.321052",
   "environment_variables": {},
   "exception": null,
   "input_path": "__notebook__.ipynb",
   "output_path": "__notebook__.ipynb",
   "parameters": {},
   "start_time": "2025-07-19T23:36:28.323021",
   "version": "2.6.0"
  }
 },
 "nbformat": 4,
 "nbformat_minor": 5
}
